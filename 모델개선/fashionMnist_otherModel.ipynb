{
 "cells": [
  {
   "cell_type": "code",
   "execution_count": 1,
   "id": "2168d737-306c-4b1d-863c-7c34e3fa9944",
   "metadata": {
    "scrolled": true
   },
   "outputs": [],
   "source": [
    "from tensorflow.keras.datasets import fashion_mnist\n",
    "from sklearn.model_selection import train_test_split\n",
    "from sklearn.preprocessing import StandardScaler\n",
    "from sklearn.metrics import accuracy_score, classification_report\n",
    "\n",
    "# 데이터 로드\n",
    "(x_train, y_train), (x_test, y_test) = fashion_mnist.load_data()\n",
    "\n",
    "# 데이터를 1D 벡터로 변환\n",
    "x_train = x_train.reshape(x_train.shape[0], -1)\n",
    "x_test = x_test.reshape(x_test.shape[0], -1)\n",
    "\n",
    "# 데이터 정규화\n",
    "scaler = StandardScaler()\n",
    "x_train_scaled = scaler.fit_transform(x_train)\n",
    "x_test_scaled = scaler.transform(x_test)\n",
    "\n",
    "# 훈련 데이터를 훈련/검증으로 분리\n",
    "x_train_split, x_val_split, y_train_split, y_val_split = train_test_split(\n",
    "    x_train_scaled, y_train, test_size=0.2, random_state=42\n",
    ")"
   ]
  },
  {
   "cell_type": "markdown",
   "id": "1ad680d0-d372-4b22-bc23-b651281c2112",
   "metadata": {},
   "source": [
    "## 1.SVM"
   ]
  },
  {
   "cell_type": "code",
   "execution_count": 2,
   "id": "1efd1eb9-cbb3-4a34-b9de-0950c6dee6e0",
   "metadata": {},
   "outputs": [
    {
     "name": "stdout",
     "output_type": "stream",
     "text": [
      "Accuracy: 0.8669\n",
      "\n",
      "Classification Report:\n",
      "               precision    recall  f1-score   support\n",
      "\n",
      "           0       0.81      0.84      0.83      1000\n",
      "           1       0.99      0.96      0.97      1000\n",
      "           2       0.78      0.77      0.78      1000\n",
      "           3       0.85      0.89      0.87      1000\n",
      "           4       0.78      0.80      0.79      1000\n",
      "           5       0.96      0.93      0.94      1000\n",
      "           6       0.68      0.64      0.66      1000\n",
      "           7       0.91      0.94      0.92      1000\n",
      "           8       0.96      0.97      0.97      1000\n",
      "           9       0.93      0.94      0.94      1000\n",
      "\n",
      "    accuracy                           0.87     10000\n",
      "   macro avg       0.87      0.87      0.87     10000\n",
      "weighted avg       0.87      0.87      0.87     10000\n",
      "\n"
     ]
    }
   ],
   "source": [
    "# PCA로 차원 축소 (옵션: 속도 향상을 위해 사용)\n",
    "from sklearn.decomposition import PCA\n",
    "pca = PCA(n_components=50)  # 50차원으로 축소\n",
    "x_train_pca = pca.fit_transform(x_train_scaled)\n",
    "x_test_pca = pca.transform(x_test_scaled)\n",
    "\n",
    "# 2. SVM 모델 학습\n",
    "from sklearn.svm import SVC\n",
    "svm_model = SVC(kernel='rbf', C=1, gamma='scale')  # RBF 커널 사용\n",
    "svm_model.fit(x_train_pca, y_train)\n",
    "\n",
    "# 3. 모델 평가\n",
    "y_pred = svm_model.predict(x_test_pca)\n",
    "\n",
    "# 정확도 및 분류 리포트 출력\n",
    "print(\"Accuracy:\", accuracy_score(y_test, y_pred))\n",
    "print(\"\\nClassification Report:\\n\", classification_report(y_test, y_pred))"
   ]
  },
  {
   "cell_type": "markdown",
   "id": "d3e29908-a316-43a7-a60e-59669d9a81cd",
   "metadata": {},
   "source": [
    "## 2. Decision Tree"
   ]
  },
  {
   "cell_type": "code",
   "execution_count": 3,
   "id": "389d70a6-171f-4032-958d-f72c58a293fa",
   "metadata": {},
   "outputs": [
    {
     "name": "stdout",
     "output_type": "stream",
     "text": [
      "Decision Tree Accuracy: 0.7901\n",
      "Classification Report:\n",
      "               precision    recall  f1-score   support\n",
      "\n",
      "           0       0.73      0.75      0.74      1000\n",
      "           1       0.94      0.95      0.95      1000\n",
      "           2       0.67      0.67      0.67      1000\n",
      "           3       0.81      0.78      0.79      1000\n",
      "           4       0.65      0.65      0.65      1000\n",
      "           5       0.90      0.89      0.90      1000\n",
      "           6       0.53      0.53      0.53      1000\n",
      "           7       0.85      0.89      0.87      1000\n",
      "           8       0.92      0.90      0.91      1000\n",
      "           9       0.90      0.89      0.90      1000\n",
      "\n",
      "    accuracy                           0.79     10000\n",
      "   macro avg       0.79      0.79      0.79     10000\n",
      "weighted avg       0.79      0.79      0.79     10000\n",
      "\n"
     ]
    }
   ],
   "source": [
    "from sklearn.tree import DecisionTreeClassifier\n",
    "\n",
    "# 모델 학습\n",
    "decision_tree = DecisionTreeClassifier(random_state=42)\n",
    "decision_tree.fit(x_train_split, y_train_split)\n",
    "\n",
    "# 예측 및 평가\n",
    "y_pred_dt = decision_tree.predict(x_test_scaled)\n",
    "print(\"Decision Tree Accuracy:\", accuracy_score(y_test, y_pred_dt))\n",
    "print(\"Classification Report:\\n\", classification_report(y_test, y_pred_dt))"
   ]
  },
  {
   "cell_type": "markdown",
   "id": "01e68a58-5df1-4417-ab2f-5fba611f5d86",
   "metadata": {},
   "source": [
    "## 3. Random Forest"
   ]
  },
  {
   "cell_type": "code",
   "execution_count": 4,
   "id": "56f38012-ba64-4300-9917-494081eb257c",
   "metadata": {},
   "outputs": [
    {
     "name": "stdout",
     "output_type": "stream",
     "text": [
      "Random Forest Accuracy: 0.8735\n",
      "Classification Report:\n",
      "               precision    recall  f1-score   support\n",
      "\n",
      "           0       0.82      0.85      0.83      1000\n",
      "           1       0.99      0.96      0.98      1000\n",
      "           2       0.77      0.80      0.78      1000\n",
      "           3       0.86      0.90      0.88      1000\n",
      "           4       0.77      0.82      0.79      1000\n",
      "           5       0.98      0.96      0.97      1000\n",
      "           6       0.71      0.58      0.64      1000\n",
      "           7       0.93      0.95      0.94      1000\n",
      "           8       0.95      0.97      0.96      1000\n",
      "           9       0.95      0.95      0.95      1000\n",
      "\n",
      "    accuracy                           0.87     10000\n",
      "   macro avg       0.87      0.87      0.87     10000\n",
      "weighted avg       0.87      0.87      0.87     10000\n",
      "\n"
     ]
    }
   ],
   "source": [
    "from sklearn.ensemble import RandomForestClassifier\n",
    "\n",
    "# 모델 학습\n",
    "random_forest = RandomForestClassifier(n_estimators=100, random_state=42)\n",
    "random_forest.fit(x_train_split, y_train_split)\n",
    "\n",
    "# 예측 및 평가\n",
    "y_pred_rf = random_forest.predict(x_test_scaled)\n",
    "print(\"Random Forest Accuracy:\", accuracy_score(y_test, y_pred_rf))\n",
    "print(\"Classification Report:\\n\", classification_report(y_test, y_pred_rf))"
   ]
  },
  {
   "cell_type": "markdown",
   "id": "be3bcfa8-15ef-418e-a128-61df3cf53357",
   "metadata": {},
   "source": [
    "## 4. XGBoost"
   ]
  },
  {
   "cell_type": "code",
   "execution_count": 5,
   "id": "b78fe829-ddb5-4c60-89d6-ecd2b1b19e6e",
   "metadata": {},
   "outputs": [
    {
     "name": "stderr",
     "output_type": "stream",
     "text": [
      "/opt/anaconda3/lib/python3.12/site-packages/xgboost/core.py:158: UserWarning: [14:43:05] WARNING: /Users/runner/work/xgboost/xgboost/src/learner.cc:740: \n",
      "Parameters: { \"use_label_encoder\" } are not used.\n",
      "\n",
      "  warnings.warn(smsg, UserWarning)\n"
     ]
    },
    {
     "name": "stdout",
     "output_type": "stream",
     "text": [
      "XGBoost Accuracy: 0.8926\n",
      "Classification Report:\n",
      "               precision    recall  f1-score   support\n",
      "\n",
      "           0       0.83      0.86      0.85      1000\n",
      "           1       0.99      0.97      0.98      1000\n",
      "           2       0.79      0.82      0.81      1000\n",
      "           3       0.90      0.90      0.90      1000\n",
      "           4       0.81      0.83      0.82      1000\n",
      "           5       0.99      0.97      0.98      1000\n",
      "           6       0.72      0.66      0.69      1000\n",
      "           7       0.95      0.97      0.96      1000\n",
      "           8       0.97      0.97      0.97      1000\n",
      "           9       0.96      0.97      0.96      1000\n",
      "\n",
      "    accuracy                           0.89     10000\n",
      "   macro avg       0.89      0.89      0.89     10000\n",
      "weighted avg       0.89      0.89      0.89     10000\n",
      "\n"
     ]
    }
   ],
   "source": [
    "from xgboost import XGBClassifier\n",
    "\n",
    "# 모델 학습\n",
    "xgb_model = XGBClassifier(use_label_encoder=False, eval_metric='mlogloss', random_state=42)\n",
    "xgb_model.fit(x_train_split, y_train_split, eval_set=[(x_val_split, y_val_split)], verbose=False)\n",
    "\n",
    "# 예측 및 평가\n",
    "y_pred_xgb = xgb_model.predict(x_test_scaled)\n",
    "print(\"XGBoost Accuracy:\", accuracy_score(y_test, y_pred_xgb))\n",
    "print(\"Classification Report:\\n\", classification_report(y_test, y_pred_xgb))"
   ]
  },
  {
   "cell_type": "markdown",
   "id": "506491de-ddd6-473f-8d62-4254bb49ba9d",
   "metadata": {},
   "source": [
    "## 5. LightGBM"
   ]
  },
  {
   "cell_type": "code",
   "execution_count": 6,
   "id": "04d1298f-9423-431f-880e-abe1a31cf91c",
   "metadata": {},
   "outputs": [
    {
     "name": "stdout",
     "output_type": "stream",
     "text": [
      "[LightGBM] [Info] Auto-choosing col-wise multi-threading, the overhead of testing was 0.179128 seconds.\n",
      "You can set `force_col_wise=true` to remove the overhead.\n",
      "[LightGBM] [Info] Total Bins 174176\n",
      "[LightGBM] [Info] Number of data points in the train set: 48000, number of used features: 783\n",
      "[LightGBM] [Info] Start training from score -2.303002\n",
      "[LightGBM] [Info] Start training from score -2.306551\n",
      "[LightGBM] [Info] Start training from score -2.303627\n",
      "[LightGBM] [Info] Start training from score -2.299257\n",
      "[LightGBM] [Info] Start training from score -2.303002\n",
      "[LightGBM] [Info] Start training from score -2.304879\n",
      "[LightGBM] [Info] Start training from score -2.306342\n",
      "[LightGBM] [Info] Start training from score -2.294080\n",
      "[LightGBM] [Info] Start training from score -2.301960\n",
      "[LightGBM] [Info] Start training from score -2.303210\n",
      "[1]\tvalid_0's multi_logloss: 1.73052\n",
      "[2]\tvalid_0's multi_logloss: 1.44448\n",
      "[3]\tvalid_0's multi_logloss: 1.24646\n",
      "[4]\tvalid_0's multi_logloss: 1.09876\n",
      "[5]\tvalid_0's multi_logloss: 0.980705\n",
      "[6]\tvalid_0's multi_logloss: 0.885639\n",
      "[7]\tvalid_0's multi_logloss: 0.807467\n",
      "[8]\tvalid_0's multi_logloss: 0.741564\n",
      "[9]\tvalid_0's multi_logloss: 0.685453\n",
      "[10]\tvalid_0's multi_logloss: 0.638226\n",
      "[11]\tvalid_0's multi_logloss: 0.597965\n",
      "[12]\tvalid_0's multi_logloss: 0.563082\n",
      "[13]\tvalid_0's multi_logloss: 0.532994\n",
      "[14]\tvalid_0's multi_logloss: 0.507051\n",
      "[15]\tvalid_0's multi_logloss: 0.485025\n",
      "[16]\tvalid_0's multi_logloss: 0.465625\n",
      "[17]\tvalid_0's multi_logloss: 0.448095\n",
      "[18]\tvalid_0's multi_logloss: 0.433058\n",
      "[19]\tvalid_0's multi_logloss: 0.419292\n",
      "[20]\tvalid_0's multi_logloss: 0.407357\n",
      "[21]\tvalid_0's multi_logloss: 0.396576\n",
      "[22]\tvalid_0's multi_logloss: 0.387407\n",
      "[23]\tvalid_0's multi_logloss: 0.378944\n",
      "[24]\tvalid_0's multi_logloss: 0.371056\n",
      "[25]\tvalid_0's multi_logloss: 0.364118\n",
      "[26]\tvalid_0's multi_logloss: 0.35815\n",
      "[27]\tvalid_0's multi_logloss: 0.352618\n",
      "[28]\tvalid_0's multi_logloss: 0.347438\n",
      "[29]\tvalid_0's multi_logloss: 0.342518\n",
      "[30]\tvalid_0's multi_logloss: 0.337747\n",
      "[31]\tvalid_0's multi_logloss: 0.333993\n",
      "[32]\tvalid_0's multi_logloss: 0.330499\n",
      "[33]\tvalid_0's multi_logloss: 0.326986\n",
      "[34]\tvalid_0's multi_logloss: 0.32373\n",
      "[35]\tvalid_0's multi_logloss: 0.320926\n",
      "[36]\tvalid_0's multi_logloss: 0.318411\n",
      "[37]\tvalid_0's multi_logloss: 0.315983\n",
      "[38]\tvalid_0's multi_logloss: 0.313994\n",
      "[39]\tvalid_0's multi_logloss: 0.311778\n",
      "[40]\tvalid_0's multi_logloss: 0.309822\n",
      "[41]\tvalid_0's multi_logloss: 0.308284\n",
      "[42]\tvalid_0's multi_logloss: 0.306643\n",
      "[43]\tvalid_0's multi_logloss: 0.305093\n",
      "[44]\tvalid_0's multi_logloss: 0.30352\n",
      "[45]\tvalid_0's multi_logloss: 0.302195\n",
      "[46]\tvalid_0's multi_logloss: 0.301122\n",
      "[47]\tvalid_0's multi_logloss: 0.300056\n",
      "[48]\tvalid_0's multi_logloss: 0.299136\n",
      "[49]\tvalid_0's multi_logloss: 0.297766\n",
      "[50]\tvalid_0's multi_logloss: 0.296745\n",
      "[51]\tvalid_0's multi_logloss: 0.29564\n",
      "[52]\tvalid_0's multi_logloss: 0.29445\n",
      "[53]\tvalid_0's multi_logloss: 0.293689\n",
      "[54]\tvalid_0's multi_logloss: 0.292896\n",
      "[55]\tvalid_0's multi_logloss: 0.292028\n",
      "[56]\tvalid_0's multi_logloss: 0.291141\n",
      "[57]\tvalid_0's multi_logloss: 0.290948\n",
      "[58]\tvalid_0's multi_logloss: 0.290189\n",
      "[59]\tvalid_0's multi_logloss: 0.28969\n",
      "[60]\tvalid_0's multi_logloss: 0.289006\n",
      "[61]\tvalid_0's multi_logloss: 0.288302\n",
      "[62]\tvalid_0's multi_logloss: 0.287791\n",
      "[63]\tvalid_0's multi_logloss: 0.287217\n",
      "[64]\tvalid_0's multi_logloss: 0.286572\n",
      "[65]\tvalid_0's multi_logloss: 0.286122\n",
      "[66]\tvalid_0's multi_logloss: 0.285595\n",
      "[67]\tvalid_0's multi_logloss: 0.285077\n",
      "[68]\tvalid_0's multi_logloss: 0.284729\n",
      "[69]\tvalid_0's multi_logloss: 0.284452\n",
      "[70]\tvalid_0's multi_logloss: 0.284053\n",
      "[71]\tvalid_0's multi_logloss: 0.283823\n",
      "[72]\tvalid_0's multi_logloss: 0.283356\n",
      "[73]\tvalid_0's multi_logloss: 0.28292\n",
      "[74]\tvalid_0's multi_logloss: 0.282576\n",
      "[75]\tvalid_0's multi_logloss: 0.282434\n",
      "[76]\tvalid_0's multi_logloss: 0.281972\n",
      "[77]\tvalid_0's multi_logloss: 0.281643\n",
      "[78]\tvalid_0's multi_logloss: 0.281386\n",
      "[79]\tvalid_0's multi_logloss: 0.281055\n",
      "[80]\tvalid_0's multi_logloss: 0.281052\n",
      "[81]\tvalid_0's multi_logloss: 0.280753\n",
      "[82]\tvalid_0's multi_logloss: 0.280623\n",
      "[83]\tvalid_0's multi_logloss: 0.280303\n",
      "[84]\tvalid_0's multi_logloss: 0.280055\n",
      "[85]\tvalid_0's multi_logloss: 0.279964\n",
      "[86]\tvalid_0's multi_logloss: 0.280024\n",
      "[87]\tvalid_0's multi_logloss: 0.279907\n",
      "[88]\tvalid_0's multi_logloss: 0.279615\n",
      "[89]\tvalid_0's multi_logloss: 0.279414\n",
      "[90]\tvalid_0's multi_logloss: 0.279276\n",
      "[91]\tvalid_0's multi_logloss: 0.278872\n",
      "[92]\tvalid_0's multi_logloss: 0.279028\n",
      "[93]\tvalid_0's multi_logloss: 0.279003\n",
      "[94]\tvalid_0's multi_logloss: 0.278887\n",
      "[95]\tvalid_0's multi_logloss: 0.278699\n",
      "[96]\tvalid_0's multi_logloss: 0.278656\n",
      "[97]\tvalid_0's multi_logloss: 0.278453\n",
      "[98]\tvalid_0's multi_logloss: 0.278394\n",
      "[99]\tvalid_0's multi_logloss: 0.278289\n",
      "[100]\tvalid_0's multi_logloss: 0.277986\n",
      "LightGBM Accuracy: 0.8897\n",
      "Classification Report:\n",
      "               precision    recall  f1-score   support\n",
      "\n",
      "           0       0.83      0.86      0.84      1000\n",
      "           1       1.00      0.97      0.98      1000\n",
      "           2       0.79      0.83      0.81      1000\n",
      "           3       0.90      0.90      0.90      1000\n",
      "           4       0.80      0.83      0.81      1000\n",
      "           5       0.99      0.97      0.98      1000\n",
      "           6       0.70      0.64      0.67      1000\n",
      "           7       0.94      0.97      0.96      1000\n",
      "           8       0.97      0.97      0.97      1000\n",
      "           9       0.96      0.96      0.96      1000\n",
      "\n",
      "    accuracy                           0.89     10000\n",
      "   macro avg       0.89      0.89      0.89     10000\n",
      "weighted avg       0.89      0.89      0.89     10000\n",
      "\n"
     ]
    }
   ],
   "source": [
    "from lightgbm import LGBMClassifier\n",
    "from lightgbm import log_evaluation\n",
    "\n",
    "# 모델 학습\n",
    "lgb_model = LGBMClassifier(random_state=42)\n",
    "lgb_model.fit(\n",
    "    x_train_split, y_train_split,\n",
    "    eval_set=[(x_val_split, y_val_split)],  # 검증 세트를 지정\n",
    "    eval_metric='multi_logloss',           # 다중 클래스 로스 사용\n",
    "    callbacks=[log_evaluation(period=1)]   # 학습 로그 출력 주기를 설정\n",
    ")\n",
    "\n",
    "# 예측 및 평가\n",
    "y_pred_lgb = lgb_model.predict(x_test_scaled)\n",
    "print(\"LightGBM Accuracy:\", accuracy_score(y_test, y_pred_lgb))\n",
    "print(\"Classification Report:\\n\", classification_report(y_test, y_pred_lgb))"
   ]
  },
  {
   "cell_type": "code",
   "execution_count": null,
   "id": "4d4731a1-610b-42eb-a207-21318369f2b8",
   "metadata": {},
   "outputs": [],
   "source": []
  }
 ],
 "metadata": {
  "kernelspec": {
   "display_name": "Python 3",
   "language": "python",
   "name": "python3"
  },
  "language_info": {
   "codemirror_mode": {
    "name": "ipython",
    "version": 3
   },
   "file_extension": ".py",
   "mimetype": "text/x-python",
   "name": "python",
   "nbconvert_exporter": "python",
   "pygments_lexer": "ipython3",
   "version": "3.9.13"
  }
 },
 "nbformat": 4,
 "nbformat_minor": 5
}
